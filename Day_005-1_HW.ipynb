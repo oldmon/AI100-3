{
 "cells": [
  {
   "cell_type": "markdown",
   "metadata": {},
   "source": [
    "# [作業目標]\n",
    "- 利用範例的創建方式, 創建一組資料, 並練習如何取出最大值"
   ]
  },
  {
   "cell_type": "markdown",
   "metadata": {},
   "source": [
    "# [作業重點]\n",
    "- 練習創立 DataFrame (In[2])\n",
    "- 如何取出口數最多的國家 (In[3], Out[3])"
   ]
  },
  {
   "cell_type": "markdown",
   "metadata": {},
   "source": [
    "## 練習時間\n",
    "在小量的資料上，我們用眼睛就可以看得出來程式碼是否有跑出我們理想中的結果\n",
    "\n",
    "請嘗試想像一個你需要的資料結構 (裡面的值可以是隨機的)，然後用上述的方法把它變成 pandas DataFrame\n",
    "\n",
    "#### Ex: 想像一個 dataframe 有兩個欄位，一個是國家，一個是人口，求人口數最多的國家\n",
    "\n",
    "### Hints: [隨機產生數值](https://blog.csdn.net/christianashannon/article/details/78867204)"
   ]
  },
  {
   "cell_type": "code",
   "execution_count": 19,
   "metadata": {},
   "outputs": [],
   "source": [
    "import pandas as pd\n",
    "import numpy as np"
   ]
  },
  {
   "cell_type": "code",
   "execution_count": 20,
   "metadata": {},
   "outputs": [],
   "source": [
    "pop=np.random.randint(20000000,size=16)\n",
    "data = {'國家':[\"Panama\",\"Malaysia\",\"Samoa\",\"France\",\"Heard Island and McDonald Islands\",\"Greenland\",\"Guyana\",\"Pitcairn\",\"Colombia\",\"Aruba\",\"United Arab Emirates\",\"Vanuatu\",\"Norway\",\"Latvia\",\"Russian Federation\",\"Bonaire, Sint Eustatius and Saba\"] ,\n",
    "        '人口':pop }\n",
    "data = pd.DataFrame(data)"
   ]
  },
  {
   "cell_type": "code",
   "execution_count": 21,
   "metadata": {},
   "outputs": [
    {
     "name": "stdout",
     "output_type": "stream",
     "text": [
      "                                   國家        人口\n",
      "0                              Panama  16115475\n",
      "1                            Malaysia  14771975\n",
      "2                               Samoa   5294779\n",
      "3                              France    778973\n",
      "4   Heard Island and McDonald Islands   6972297\n",
      "5                           Greenland    851033\n",
      "6                              Guyana  19051570\n",
      "7                            Pitcairn  16022499\n",
      "8                            Colombia  19470447\n",
      "9                               Aruba   9844404\n",
      "10               United Arab Emirates   8436862\n",
      "11                            Vanuatu   1065949\n",
      "12                             Norway   9088046\n",
      "13                             Latvia  12670045\n",
      "14                 Russian Federation   7993384\n",
      "15   Bonaire, Sint Eustatius and Saba  17547142\n"
     ]
    }
   ],
   "source": [
    "print(data)"
   ]
  },
  {
   "cell_type": "code",
   "execution_count": 27,
   "metadata": {},
   "outputs": [
    {
     "data": {
      "text/plain": [
       "'Colombia'"
      ]
     },
     "execution_count": 27,
     "metadata": {},
     "output_type": "execute_result"
    }
   ],
   "source": [
    "data.loc[data['人口'].idxmax(),'國家']"
   ]
  }
 ],
 "metadata": {
  "kernelspec": {
   "display_name": "Python 3",
   "language": "python",
   "name": "python3"
  },
  "language_info": {
   "codemirror_mode": {
    "name": "ipython",
    "version": 3
   },
   "file_extension": ".py",
   "mimetype": "text/x-python",
   "name": "python",
   "nbconvert_exporter": "python",
   "pygments_lexer": "ipython3",
   "version": "3.7.4"
  }
 },
 "nbformat": 4,
 "nbformat_minor": 2
}
