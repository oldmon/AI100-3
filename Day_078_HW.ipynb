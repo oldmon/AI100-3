{
 "cells": [
  {
   "cell_type": "markdown",
   "metadata": {},
   "source": [
    "## Work\n",
    "1. 請嘗試將 preproc_x 替換成以每筆資料的 min/max 進行標準化至 -1 ~ 1 間，再進行訓練\n",
    "2. 請嘗試將 mlp 疊更深 (e.g 5~10 層)，進行訓練後觀察 learning curve 的走勢\n",
    "3. (optional) 請改用 GPU 進行訓練 (如果你有 GPU 的話)，比較使用 CPU 與 GPU 的訓練速度"
   ]
  },
  {
   "cell_type": "code",
   "execution_count": 1,
   "metadata": {},
   "outputs": [
    {
     "name": "stderr",
     "output_type": "stream",
     "text": [
      "'nvidia-smi.exe' 不是內部或外部命令、可執行的程式或批次檔。\n"
     ]
    }
   ],
   "source": [
    "## Check hardware resource\n",
    "!nvidia-smi.exe"
   ]
  },
  {
   "cell_type": "code",
   "execution_count": 2,
   "metadata": {},
   "outputs": [
    {
     "name": "stderr",
     "output_type": "stream",
     "text": [
      "Using TensorFlow backend.\n"
     ]
    }
   ],
   "source": [
    "import os, keras\n",
    "\n",
    "# 請嘗試設定 GPU：os.environ\n",
    "os.environ[\"CUDA_VISIBLE_DEVICES\"] = \"\""
   ]
  },
  {
   "cell_type": "code",
   "execution_count": 3,
   "metadata": {},
   "outputs": [],
   "source": [
    "train, test = keras.datasets.cifar10.load_data()"
   ]
  },
  {
   "cell_type": "code",
   "execution_count": 4,
   "metadata": {},
   "outputs": [],
   "source": [
    "## 資料前處理\n",
    "def preproc_x(x, flatten=True):\n",
    "    x = x/128-1\n",
    "    if flatten:\n",
    "        x = x.reshape((len(x), -1))\n",
    "    return x\n",
    "\n",
    "def preproc_y(y, num_classes=10):\n",
    "    if y.shape[-1] == 1:\n",
    "        y = keras.utils.to_categorical(y, num_classes)\n",
    "    return y    "
   ]
  },
  {
   "cell_type": "code",
   "execution_count": 5,
   "metadata": {},
   "outputs": [],
   "source": [
    "x_train, y_train = train\n",
    "x_test, y_test = test\n",
    "\n",
    "# Preproc the inputs\n",
    "x_train = preproc_x(x_train)\n",
    "x_test = preproc_x(x_test)\n",
    "\n",
    "# Preprc the outputs\n",
    "y_train = preproc_y(y_train)\n",
    "y_test = preproc_y(y_test)"
   ]
  },
  {
   "cell_type": "code",
   "execution_count": 6,
   "metadata": {},
   "outputs": [
    {
     "name": "stdout",
     "output_type": "stream",
     "text": [
      "WARNING:tensorflow:From C:\\Users\\oldmon\\.conda\\envs\\ai100-3\\lib\\site-packages\\keras\\backend\\tensorflow_backend.py:74: The name tf.get_default_graph is deprecated. Please use tf.compat.v1.get_default_graph instead.\n",
      "\n",
      "WARNING:tensorflow:From C:\\Users\\oldmon\\.conda\\envs\\ai100-3\\lib\\site-packages\\keras\\backend\\tensorflow_backend.py:517: The name tf.placeholder is deprecated. Please use tf.compat.v1.placeholder instead.\n",
      "\n",
      "WARNING:tensorflow:From C:\\Users\\oldmon\\.conda\\envs\\ai100-3\\lib\\site-packages\\keras\\backend\\tensorflow_backend.py:4138: The name tf.random_uniform is deprecated. Please use tf.random.uniform instead.\n",
      "\n",
      "_________________________________________________________________\n",
      "Layer (type)                 Output Shape              Param #   \n",
      "=================================================================\n",
      "input_1 (InputLayer)         (None, 3072)              0         \n",
      "_________________________________________________________________\n",
      "hidden_layer1 (Dense)        (None, 1024)              3146752   \n",
      "_________________________________________________________________\n",
      "hidden_layer2 (Dense)        (None, 512)               524800    \n",
      "_________________________________________________________________\n",
      "hidden_layer3 (Dense)        (None, 256)               131328    \n",
      "_________________________________________________________________\n",
      "hidden_layer4 (Dense)        (None, 128)               32896     \n",
      "_________________________________________________________________\n",
      "hidden_layer5 (Dense)        (None, 64)                8256      \n",
      "_________________________________________________________________\n",
      "hidden_layer6 (Dense)        (None, 32)                2080      \n",
      "_________________________________________________________________\n",
      "hidden_layer7 (Dense)        (None, 16)                528       \n",
      "_________________________________________________________________\n",
      "output (Dense)               (None, 10)                170       \n",
      "=================================================================\n",
      "Total params: 3,846,810\n",
      "Trainable params: 3,846,810\n",
      "Non-trainable params: 0\n",
      "_________________________________________________________________\n"
     ]
    }
   ],
   "source": [
    "def build_mlp(input_shape, output_units=10, num_neurons=[1024, 512, 256, 128, 64, 32, 16]):\n",
    "    input_layer = keras.layers.Input(input_shape)\n",
    "    for i, n_units in enumerate(num_neurons):\n",
    "        if i == 0:\n",
    "            x = keras.layers.Dense(units=n_units, activation=\"relu\", name=\"hidden_layer\"+str(i+1))(input_layer)\n",
    "        else:\n",
    "            x = keras.layers.Dense(units=n_units, activation=\"relu\", name=\"hidden_layer\"+str(i+1))(x)\n",
    "    \n",
    "    out = keras.layers.Dense(units=output_units, activation=\"softmax\", name=\"output\")(x)\n",
    "    model = keras.models.Model(inputs=[input_layer], outputs=[out])\n",
    "    return model\n",
    "model = build_mlp(input_shape=x_train.shape[1:])\n",
    "model.summary()"
   ]
  },
  {
   "cell_type": "code",
   "execution_count": 7,
   "metadata": {},
   "outputs": [],
   "source": [
    "## 超參數設定\n",
    "LEARNING_RATE = 0.001\n",
    "EPOCHS = 100\n",
    "BATCH_SIZE = 256"
   ]
  },
  {
   "cell_type": "code",
   "execution_count": 8,
   "metadata": {},
   "outputs": [
    {
     "name": "stdout",
     "output_type": "stream",
     "text": [
      "WARNING:tensorflow:From C:\\Users\\oldmon\\.conda\\envs\\ai100-3\\lib\\site-packages\\keras\\optimizers.py:790: The name tf.train.Optimizer is deprecated. Please use tf.compat.v1.train.Optimizer instead.\n",
      "\n",
      "WARNING:tensorflow:From C:\\Users\\oldmon\\.conda\\envs\\ai100-3\\lib\\site-packages\\keras\\backend\\tensorflow_backend.py:3295: The name tf.log is deprecated. Please use tf.math.log instead.\n",
      "\n"
     ]
    }
   ],
   "source": [
    "optimizer = keras.optimizers.Adam(lr=LEARNING_RATE)\n",
    "model.compile(loss=\"categorical_crossentropy\", metrics=[\"accuracy\"], optimizer=optimizer)"
   ]
  },
  {
   "cell_type": "code",
   "execution_count": 9,
   "metadata": {},
   "outputs": [
    {
     "name": "stdout",
     "output_type": "stream",
     "text": [
      "WARNING:tensorflow:From C:\\Users\\oldmon\\.conda\\envs\\ai100-3\\lib\\site-packages\\tensorflow_core\\python\\ops\\math_grad.py:1424: where (from tensorflow.python.ops.array_ops) is deprecated and will be removed in a future version.\n",
      "Instructions for updating:\n",
      "Use tf.where in 2.0, which has the same broadcast rule as np.where\n",
      "WARNING:tensorflow:From C:\\Users\\oldmon\\.conda\\envs\\ai100-3\\lib\\site-packages\\keras\\backend\\tensorflow_backend.py:986: The name tf.assign_add is deprecated. Please use tf.compat.v1.assign_add instead.\n",
      "\n",
      "WARNING:tensorflow:From C:\\Users\\oldmon\\.conda\\envs\\ai100-3\\lib\\site-packages\\keras\\backend\\tensorflow_backend.py:973: The name tf.assign is deprecated. Please use tf.compat.v1.assign instead.\n",
      "\n",
      "WARNING:tensorflow:From C:\\Users\\oldmon\\.conda\\envs\\ai100-3\\lib\\site-packages\\keras\\backend\\tensorflow_backend.py:2741: The name tf.Session is deprecated. Please use tf.compat.v1.Session instead.\n",
      "\n",
      "Train on 50000 samples, validate on 10000 samples\n",
      "Epoch 1/100\n",
      "WARNING:tensorflow:From C:\\Users\\oldmon\\.conda\\envs\\ai100-3\\lib\\site-packages\\keras\\backend\\tensorflow_backend.py:174: The name tf.get_default_session is deprecated. Please use tf.compat.v1.get_default_session instead.\n",
      "\n",
      "WARNING:tensorflow:From C:\\Users\\oldmon\\.conda\\envs\\ai100-3\\lib\\site-packages\\keras\\backend\\tensorflow_backend.py:181: The name tf.ConfigProto is deprecated. Please use tf.compat.v1.ConfigProto instead.\n",
      "\n",
      "WARNING:tensorflow:From C:\\Users\\oldmon\\.conda\\envs\\ai100-3\\lib\\site-packages\\keras\\backend\\tensorflow_backend.py:190: The name tf.global_variables is deprecated. Please use tf.compat.v1.global_variables instead.\n",
      "\n",
      "WARNING:tensorflow:From C:\\Users\\oldmon\\.conda\\envs\\ai100-3\\lib\\site-packages\\keras\\backend\\tensorflow_backend.py:199: The name tf.is_variable_initialized is deprecated. Please use tf.compat.v1.is_variable_initialized instead.\n",
      "\n",
      "WARNING:tensorflow:From C:\\Users\\oldmon\\.conda\\envs\\ai100-3\\lib\\site-packages\\keras\\backend\\tensorflow_backend.py:206: The name tf.variables_initializer is deprecated. Please use tf.compat.v1.variables_initializer instead.\n",
      "\n",
      "50000/50000 [==============================] - 83s 2ms/step - loss: 1.7932 - acc: 0.3604 - val_loss: 1.6251 - val_acc: 0.4189\n",
      "Epoch 2/100\n",
      "50000/50000 [==============================] - 70s 1ms/step - loss: 1.5336 - acc: 0.4583 - val_loss: 1.4829 - val_acc: 0.4745\n",
      "Epoch 3/100\n",
      "50000/50000 [==============================] - 68s 1ms/step - loss: 1.3967 - acc: 0.5095 - val_loss: 1.4306 - val_acc: 0.5045\n",
      "Epoch 4/100\n",
      "50000/50000 [==============================] - 68s 1ms/step - loss: 1.2962 - acc: 0.5445 - val_loss: 1.4059 - val_acc: 0.5043\n",
      "Epoch 5/100\n",
      "50000/50000 [==============================] - 68s 1ms/step - loss: 1.2039 - acc: 0.5763 - val_loss: 1.3505 - val_acc: 0.5311\n",
      "Epoch 6/100\n",
      "50000/50000 [==============================] - 67s 1ms/step - loss: 1.1211 - acc: 0.6072 - val_loss: 1.3792 - val_acc: 0.5261\n",
      "Epoch 7/100\n",
      "50000/50000 [==============================] - 69s 1ms/step - loss: 1.0361 - acc: 0.6334 - val_loss: 1.3614 - val_acc: 0.5431\n",
      "Epoch 8/100\n",
      "50000/50000 [==============================] - 67s 1ms/step - loss: 0.9545 - acc: 0.6616 - val_loss: 1.4268 - val_acc: 0.5361\n",
      "Epoch 9/100\n",
      "50000/50000 [==============================] - 68s 1ms/step - loss: 0.8811 - acc: 0.6878 - val_loss: 1.4361 - val_acc: 0.5373\n",
      "Epoch 10/100\n",
      "50000/50000 [==============================] - 67s 1ms/step - loss: 0.7920 - acc: 0.7211 - val_loss: 1.4388 - val_acc: 0.5464\n",
      "Epoch 11/100\n",
      "50000/50000 [==============================] - 68s 1ms/step - loss: 0.7237 - acc: 0.7443 - val_loss: 1.4986 - val_acc: 0.5389\n",
      "Epoch 12/100\n",
      "50000/50000 [==============================] - 69s 1ms/step - loss: 0.6574 - acc: 0.7645 - val_loss: 1.5710 - val_acc: 0.5447\n",
      "Epoch 13/100\n",
      "50000/50000 [==============================] - 80s 2ms/step - loss: 0.5802 - acc: 0.7935 - val_loss: 1.7312 - val_acc: 0.5498\n",
      "Epoch 14/100\n",
      "50000/50000 [==============================] - 82s 2ms/step - loss: 0.5280 - acc: 0.8134 - val_loss: 1.7873 - val_acc: 0.5386\n",
      "Epoch 15/100\n",
      "50000/50000 [==============================] - 90s 2ms/step - loss: 0.4675 - acc: 0.8341 - val_loss: 1.9301 - val_acc: 0.5423\n",
      "Epoch 16/100\n",
      "50000/50000 [==============================] - 82s 2ms/step - loss: 0.4305 - acc: 0.8489 - val_loss: 1.9577 - val_acc: 0.5370\n",
      "Epoch 17/100\n",
      "50000/50000 [==============================] - 81s 2ms/step - loss: 0.3930 - acc: 0.8622 - val_loss: 2.0231 - val_acc: 0.5450\n",
      "Epoch 18/100\n",
      "50000/50000 [==============================] - 83s 2ms/step - loss: 0.3586 - acc: 0.8755 - val_loss: 2.1704 - val_acc: 0.5482\n",
      "Epoch 19/100\n",
      "50000/50000 [==============================] - 81s 2ms/step - loss: 0.3221 - acc: 0.8876 - val_loss: 2.2512 - val_acc: 0.5405\n",
      "Epoch 20/100\n",
      "50000/50000 [==============================] - 70s 1ms/step - loss: 0.2936 - acc: 0.8976 - val_loss: 2.2977 - val_acc: 0.5425\n",
      "Epoch 21/100\n",
      "50000/50000 [==============================] - 70s 1ms/step - loss: 0.2575 - acc: 0.9094 - val_loss: 2.5280 - val_acc: 0.5417\n",
      "Epoch 22/100\n",
      "50000/50000 [==============================] - 70s 1ms/step - loss: 0.2600 - acc: 0.9096 - val_loss: 2.4523 - val_acc: 0.5382\n",
      "Epoch 23/100\n",
      "50000/50000 [==============================] - 86s 2ms/step - loss: 0.2334 - acc: 0.9193 - val_loss: 2.5660 - val_acc: 0.5402\n",
      "Epoch 24/100\n",
      "50000/50000 [==============================] - 76s 2ms/step - loss: 0.2090 - acc: 0.9279 - val_loss: 2.6146 - val_acc: 0.5441\n",
      "Epoch 25/100\n",
      "50000/50000 [==============================] - 75s 2ms/step - loss: 0.2087 - acc: 0.9281 - val_loss: 2.6226 - val_acc: 0.5413\n",
      "Epoch 26/100\n",
      "50000/50000 [==============================] - 75s 2ms/step - loss: 0.1968 - acc: 0.9330 - val_loss: 2.8186 - val_acc: 0.5275\n",
      "Epoch 27/100\n",
      "50000/50000 [==============================] - 76s 2ms/step - loss: 0.1850 - acc: 0.9389 - val_loss: 2.8404 - val_acc: 0.5354\n",
      "Epoch 28/100\n",
      "50000/50000 [==============================] - 73s 1ms/step - loss: 0.1677 - acc: 0.9435 - val_loss: 2.8985 - val_acc: 0.5380\n",
      "Epoch 29/100\n",
      "50000/50000 [==============================] - 80s 2ms/step - loss: 0.1778 - acc: 0.9412 - val_loss: 2.9440 - val_acc: 0.5338\n",
      "Epoch 30/100\n",
      "50000/50000 [==============================] - 73s 1ms/step - loss: 0.1670 - acc: 0.9448 - val_loss: 2.9127 - val_acc: 0.5506\n",
      "Epoch 31/100\n",
      "50000/50000 [==============================] - 74s 1ms/step - loss: 0.1457 - acc: 0.9511 - val_loss: 2.9584 - val_acc: 0.5509\n",
      "Epoch 32/100\n",
      "50000/50000 [==============================] - 76s 2ms/step - loss: 0.1530 - acc: 0.9490 - val_loss: 2.9841 - val_acc: 0.5401\n",
      "Epoch 33/100\n",
      "50000/50000 [==============================] - 82s 2ms/step - loss: 0.1393 - acc: 0.9529 - val_loss: 3.0044 - val_acc: 0.5389\n",
      "Epoch 34/100\n",
      "50000/50000 [==============================] - 79s 2ms/step - loss: 0.1354 - acc: 0.9555 - val_loss: 3.0420 - val_acc: 0.5421\n",
      "Epoch 35/100\n",
      "50000/50000 [==============================] - 69s 1ms/step - loss: 0.1298 - acc: 0.9574 - val_loss: 3.0696 - val_acc: 0.5372\n",
      "Epoch 36/100\n",
      "50000/50000 [==============================] - 68s 1ms/step - loss: 0.1258 - acc: 0.9583 - val_loss: 3.0984 - val_acc: 0.5370\n",
      "Epoch 37/100\n",
      "50000/50000 [==============================] - 69s 1ms/step - loss: 0.1239 - acc: 0.9592 - val_loss: 3.0605 - val_acc: 0.5441\n",
      "Epoch 38/100\n",
      "50000/50000 [==============================] - 69s 1ms/step - loss: 0.1143 - acc: 0.9625 - val_loss: 3.1765 - val_acc: 0.5418\n",
      "Epoch 39/100\n",
      "50000/50000 [==============================] - 67s 1ms/step - loss: 0.1266 - acc: 0.9586 - val_loss: 3.1941 - val_acc: 0.5385\n",
      "Epoch 40/100\n",
      "50000/50000 [==============================] - 68s 1ms/step - loss: 0.1220 - acc: 0.9607 - val_loss: 3.0728 - val_acc: 0.5471\n",
      "Epoch 41/100\n",
      "50000/50000 [==============================] - 68s 1ms/step - loss: 0.0926 - acc: 0.9698 - val_loss: 3.3657 - val_acc: 0.5422\n",
      "Epoch 42/100\n",
      "50000/50000 [==============================] - 68s 1ms/step - loss: 0.1079 - acc: 0.9646 - val_loss: 3.1745 - val_acc: 0.5335\n",
      "Epoch 43/100\n",
      "50000/50000 [==============================] - 68s 1ms/step - loss: 0.1006 - acc: 0.9662 - val_loss: 3.2432 - val_acc: 0.5393\n",
      "Epoch 44/100\n",
      "50000/50000 [==============================] - 67s 1ms/step - loss: 0.1124 - acc: 0.9633 - val_loss: 3.3687 - val_acc: 0.5402\n",
      "Epoch 45/100\n"
     ]
    },
    {
     "name": "stdout",
     "output_type": "stream",
     "text": [
      "50000/50000 [==============================] - 67s 1ms/step - loss: 0.0995 - acc: 0.9679 - val_loss: 3.2725 - val_acc: 0.5432\n",
      "Epoch 46/100\n",
      "50000/50000 [==============================] - 67s 1ms/step - loss: 0.0881 - acc: 0.9715 - val_loss: 3.2718 - val_acc: 0.5370\n",
      "Epoch 47/100\n",
      "50000/50000 [==============================] - 72s 1ms/step - loss: 0.0983 - acc: 0.9686 - val_loss: 3.4094 - val_acc: 0.5346\n",
      "Epoch 48/100\n",
      "50000/50000 [==============================] - 67s 1ms/step - loss: 0.0987 - acc: 0.9679 - val_loss: 3.2953 - val_acc: 0.5469\n",
      "Epoch 49/100\n",
      "50000/50000 [==============================] - 67s 1ms/step - loss: 0.0910 - acc: 0.9704 - val_loss: 3.2465 - val_acc: 0.5513\n",
      "Epoch 50/100\n",
      "50000/50000 [==============================] - 66s 1ms/step - loss: 0.0998 - acc: 0.9683 - val_loss: 3.3751 - val_acc: 0.5393\n",
      "Epoch 51/100\n",
      "50000/50000 [==============================] - 37s 735us/step - loss: 0.0758 - acc: 0.9752 - val_loss: 3.4689 - val_acc: 0.5399\n",
      "Epoch 52/100\n",
      "50000/50000 [==============================] - 36s 723us/step - loss: 0.0917 - acc: 0.9709 - val_loss: 3.2414 - val_acc: 0.5387\n",
      "Epoch 53/100\n",
      "50000/50000 [==============================] - 36s 728us/step - loss: 0.0846 - acc: 0.9744 - val_loss: 3.4119 - val_acc: 0.5364\n",
      "Epoch 54/100\n",
      "50000/50000 [==============================] - 36s 726us/step - loss: 0.0868 - acc: 0.9725 - val_loss: 3.3436 - val_acc: 0.5395\n",
      "Epoch 55/100\n",
      "50000/50000 [==============================] - 36s 727us/step - loss: 0.0810 - acc: 0.9745 - val_loss: 3.4450 - val_acc: 0.5455\n",
      "Epoch 56/100\n",
      "50000/50000 [==============================] - 37s 731us/step - loss: 0.0838 - acc: 0.9728 - val_loss: 3.4459 - val_acc: 0.5388\n",
      "Epoch 57/100\n",
      "50000/50000 [==============================] - 37s 732us/step - loss: 0.0914 - acc: 0.9715 - val_loss: 3.2908 - val_acc: 0.5395\n",
      "Epoch 58/100\n",
      "50000/50000 [==============================] - 38s 753us/step - loss: 0.0671 - acc: 0.9788 - val_loss: 3.4397 - val_acc: 0.5409\n",
      "Epoch 59/100\n",
      "50000/50000 [==============================] - 41s 812us/step - loss: 0.0774 - acc: 0.9756 - val_loss: 3.4943 - val_acc: 0.5472\n",
      "Epoch 60/100\n",
      "50000/50000 [==============================] - 52s 1ms/step - loss: 0.0704 - acc: 0.9776 - val_loss: 3.5926 - val_acc: 0.5472\n",
      "Epoch 61/100\n",
      "50000/50000 [==============================] - 54s 1ms/step - loss: 0.0869 - acc: 0.9734 - val_loss: 3.4992 - val_acc: 0.5370\n",
      "Epoch 62/100\n",
      "50000/50000 [==============================] - 45s 898us/step - loss: 0.0805 - acc: 0.9740 - val_loss: 3.3582 - val_acc: 0.5440\n",
      "Epoch 63/100\n",
      "50000/50000 [==============================] - 38s 770us/step - loss: 0.0586 - acc: 0.9818 - val_loss: 3.5896 - val_acc: 0.5420\n",
      "Epoch 64/100\n",
      "50000/50000 [==============================] - 39s 774us/step - loss: 0.0900 - acc: 0.9720 - val_loss: 3.2952 - val_acc: 0.5420\n",
      "Epoch 65/100\n",
      "50000/50000 [==============================] - 40s 805us/step - loss: 0.0689 - acc: 0.9782 - val_loss: 3.4001 - val_acc: 0.5477\n",
      "Epoch 66/100\n",
      "50000/50000 [==============================] - 40s 807us/step - loss: 0.0662 - acc: 0.9789 - val_loss: 3.5644 - val_acc: 0.5423\n",
      "Epoch 67/100\n",
      "50000/50000 [==============================] - 40s 810us/step - loss: 0.0782 - acc: 0.9755 - val_loss: 3.4250 - val_acc: 0.5421\n",
      "Epoch 68/100\n",
      "50000/50000 [==============================] - 44s 876us/step - loss: 0.0620 - acc: 0.9817 - val_loss: 3.4931 - val_acc: 0.5476\n",
      "Epoch 69/100\n",
      "50000/50000 [==============================] - 40s 793us/step - loss: 0.0596 - acc: 0.9812 - val_loss: 3.4896 - val_acc: 0.5443\n",
      "Epoch 70/100\n",
      "50000/50000 [==============================] - 40s 793us/step - loss: 0.0755 - acc: 0.9770 - val_loss: 3.3516 - val_acc: 0.5412\n",
      "Epoch 71/100\n",
      "50000/50000 [==============================] - 41s 823us/step - loss: 0.0674 - acc: 0.9786 - val_loss: 3.4416 - val_acc: 0.5299\n",
      "Epoch 72/100\n",
      "50000/50000 [==============================] - 40s 795us/step - loss: 0.0675 - acc: 0.9781 - val_loss: 3.5914 - val_acc: 0.5396\n",
      "Epoch 73/100\n",
      "50000/50000 [==============================] - 46s 916us/step - loss: 0.0687 - acc: 0.9780 - val_loss: 3.5089 - val_acc: 0.5423\n",
      "Epoch 74/100\n",
      "50000/50000 [==============================] - 51s 1ms/step - loss: 0.0607 - acc: 0.9806 - val_loss: 3.4922 - val_acc: 0.5414\n",
      "Epoch 75/100\n",
      "50000/50000 [==============================] - 43s 853us/step - loss: 0.0633 - acc: 0.9802 - val_loss: 3.5508 - val_acc: 0.5397\n",
      "Epoch 76/100\n",
      "50000/50000 [==============================] - 43s 851us/step - loss: 0.0541 - acc: 0.9832 - val_loss: 3.5981 - val_acc: 0.5463\n",
      "Epoch 77/100\n",
      "50000/50000 [==============================] - 43s 868us/step - loss: 0.0538 - acc: 0.9829 - val_loss: 3.6322 - val_acc: 0.5446\n",
      "Epoch 78/100\n",
      "50000/50000 [==============================] - 43s 852us/step - loss: 0.0654 - acc: 0.9806 - val_loss: 3.3630 - val_acc: 0.5495\n",
      "Epoch 79/100\n",
      "50000/50000 [==============================] - 46s 926us/step - loss: 0.0559 - acc: 0.9825 - val_loss: 3.5854 - val_acc: 0.5451\n",
      "Epoch 80/100\n",
      "50000/50000 [==============================] - 49s 972us/step - loss: 0.0691 - acc: 0.9783 - val_loss: 3.4944 - val_acc: 0.5377\n",
      "Epoch 81/100\n",
      "50000/50000 [==============================] - 51s 1ms/step - loss: 0.0541 - acc: 0.9836 - val_loss: 3.4077 - val_acc: 0.5392\n",
      "Epoch 82/100\n",
      "50000/50000 [==============================] - 50s 1000us/step - loss: 0.0582 - acc: 0.9817 - val_loss: 3.5382 - val_acc: 0.5445\n",
      "Epoch 83/100\n",
      "50000/50000 [==============================] - 48s 968us/step - loss: 0.0518 - acc: 0.9844 - val_loss: 3.5195 - val_acc: 0.5434\n",
      "Epoch 84/100\n",
      "50000/50000 [==============================] - 49s 979us/step - loss: 0.0529 - acc: 0.9843 - val_loss: 3.6069 - val_acc: 0.5442\n",
      "Epoch 85/100\n",
      "50000/50000 [==============================] - 45s 901us/step - loss: 0.0694 - acc: 0.9782 - val_loss: 3.3685 - val_acc: 0.5443\n",
      "Epoch 86/100\n",
      "50000/50000 [==============================] - 45s 905us/step - loss: 0.0593 - acc: 0.9822 - val_loss: 3.5525 - val_acc: 0.5362\n",
      "Epoch 87/100\n",
      "50000/50000 [==============================] - 42s 846us/step - loss: 0.0613 - acc: 0.9814 - val_loss: 3.4378 - val_acc: 0.5421\n",
      "Epoch 88/100\n",
      "50000/50000 [==============================] - 42s 840us/step - loss: 0.0618 - acc: 0.9810 - val_loss: 3.4142 - val_acc: 0.5425\n",
      "Epoch 89/100\n",
      "50000/50000 [==============================] - 43s 866us/step - loss: 0.0446 - acc: 0.9864 - val_loss: 3.6525 - val_acc: 0.5374\n",
      "Epoch 90/100\n",
      "50000/50000 [==============================] - 42s 849us/step - loss: 0.0414 - acc: 0.9873 - val_loss: 3.6203 - val_acc: 0.5468\n",
      "Epoch 91/100\n",
      "50000/50000 [==============================] - 43s 852us/step - loss: 0.0579 - acc: 0.9821 - val_loss: 3.5223 - val_acc: 0.5390\n",
      "Epoch 92/100\n",
      "50000/50000 [==============================] - 43s 851us/step - loss: 0.0566 - acc: 0.9826 - val_loss: 3.4298 - val_acc: 0.5426\n",
      "Epoch 93/100\n",
      "50000/50000 [==============================] - 43s 861us/step - loss: 0.0538 - acc: 0.9833 - val_loss: 3.4872 - val_acc: 0.5408\n",
      "Epoch 94/100\n",
      "50000/50000 [==============================] - 42s 844us/step - loss: 0.0590 - acc: 0.9822 - val_loss: 3.5477 - val_acc: 0.5441\n",
      "Epoch 95/100\n",
      "50000/50000 [==============================] - 42s 841us/step - loss: 0.0391 - acc: 0.9883 - val_loss: 3.5635 - val_acc: 0.5387\n",
      "Epoch 96/100\n",
      "50000/50000 [==============================] - 42s 848us/step - loss: 0.0511 - acc: 0.9846 - val_loss: 3.6640 - val_acc: 0.5352\n",
      "Epoch 97/100\n",
      "50000/50000 [==============================] - 42s 845us/step - loss: 0.0547 - acc: 0.9837 - val_loss: 3.5052 - val_acc: 0.5401\n",
      "Epoch 98/100\n",
      "50000/50000 [==============================] - 42s 850us/step - loss: 0.0462 - acc: 0.9856 - val_loss: 3.6197 - val_acc: 0.5438\n",
      "Epoch 99/100\n",
      "50000/50000 [==============================] - 43s 854us/step - loss: 0.0460 - acc: 0.9855 - val_loss: 3.5859 - val_acc: 0.5363\n",
      "Epoch 100/100\n",
      "50000/50000 [==============================] - 42s 844us/step - loss: 0.0466 - acc: 0.9861 - val_loss: 3.5298 - val_acc: 0.5402\n"
     ]
    },
    {
     "data": {
      "text/plain": [
       "<keras.callbacks.History at 0x1aedca13cc8>"
      ]
     },
     "execution_count": 9,
     "metadata": {},
     "output_type": "execute_result"
    }
   ],
   "source": [
    "model.fit(x_train, y_train, epochs=EPOCHS, batch_size=BATCH_SIZE, validation_data=(x_test, y_test), shuffle=True)"
   ]
  },
  {
   "cell_type": "code",
   "execution_count": 11,
   "metadata": {},
   "outputs": [
    {
     "data": {
      "image/png": "[encoded data removed]",
      "text/plain": [
       "<Figure size 432x288 with 1 Axes>"
      ]
     },
     "metadata": {
      "needs_background": "light"
     },
     "output_type": "display_data"
    },
    {
     "data": {
      "image/png": "[encoded data removed]",
      "text/plain": [
       "<Figure size 432x288 with 1 Axes>"
      ]
     },
     "metadata": {
      "needs_background": "light"
     },
     "output_type": "display_data"
    }
   ],
   "source": [
    "import matplotlib.pyplot as plt\n",
    "%matplotlib inline\n",
    "train_loss = model.history.history[\"loss\"]\n",
    "valid_loss = model.history.history[\"val_loss\"]\n",
    "\n",
    "train_acc = model.history.history[\"acc\"]\n",
    "valid_acc = model.history.history[\"val_acc\"]\n",
    "\n",
    "plt.plot(range(len(train_loss)), train_loss, label=\"train loss\")\n",
    "plt.plot(range(len(valid_loss)), valid_loss, label=\"valid loss\")\n",
    "plt.legend()\n",
    "plt.title(\"Loss\")\n",
    "plt.show()\n",
    "\n",
    "plt.plot(range(len(train_acc)), train_acc, label=\"train accuracy\")\n",
    "plt.plot(range(len(valid_acc)), valid_acc, label=\"valid accuracy\")\n",
    "plt.legend()\n",
    "plt.title(\"Accuracy\")\n",
    "plt.show()"
   ]
  }
 ],
 "metadata": {
  "kernelspec": {
   "display_name": "Python 3",
   "language": "python",
   "name": "python3"
  },
  "language_info": {
   "codemirror_mode": {
    "name": "ipython",
    "version": 3
   },
   "file_extension": ".py",
   "mimetype": "text/x-python",
   "name": "python",
   "nbconvert_exporter": "python",
   "pygments_lexer": "ipython3",
   "version": "3.7.5"
  }
 },
 "nbformat": 4,
 "nbformat_minor": 2
}
