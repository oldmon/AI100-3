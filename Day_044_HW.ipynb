{
 "cells": [
  {
   "cell_type": "markdown",
   "metadata": {},
   "source": [
    "## [作業重點]\n",
    "確保你了解隨機森林模型中每個超參數的意義，並觀察調整超參數對結果的影響"
   ]
  },
  {
   "cell_type": "markdown",
   "metadata": {},
   "source": [
    "## 作業\n",
    "\n",
    "1. 試著調整 RandomForestClassifier(...) 中的參數，並觀察是否會改變結果？\n",
    "2. 改用其他資料集 (boston, wine)，並與回歸模型與決策樹的結果進行比較"
   ]
  },
  {
   "cell_type": "code",
   "execution_count": 1,
   "metadata": {},
   "outputs": [
    {
     "name": "stdout",
     "output_type": "stream",
     "text": [
      "Accuracy:  0.9473684210526315\n",
      "['sepal length (cm)', 'sepal width (cm)', 'petal length (cm)', 'petal width (cm)']\n",
      "Feature importance:  [0.11540191 0.03251871 0.44111891 0.41096047]\n"
     ]
    }
   ],
   "source": [
    "from sklearn import datasets, metrics, linear_model\n",
    "from sklearn.ensemble import RandomForestClassifier\n",
    "from sklearn.model_selection import train_test_split\n",
    "iris = datasets.load_iris()\n",
    "x_train, x_test, y_train, y_test = train_test_split(iris.data, iris.target, test_size=0.25, random_state=4)\n",
    "\n",
    "# 建立模型 (使用 100 顆樹，每棵樹的最大深度為 16)\n",
    "clf = RandomForestClassifier(n_estimators=100, max_depth=16, n_jobs=-1)\n",
    "\n",
    "clf.fit(x_train, y_train)\n",
    "y_pred = clf.predict(x_test)\n",
    "acc = metrics.accuracy_score(y_test, y_pred)\n",
    "print(\"Accuracy: \", acc)\n",
    "print(iris.feature_names)\n",
    "print(\"Feature importance: \", clf.feature_importances_)"
   ]
  },
  {
   "cell_type": "markdown",
   "metadata": {},
   "source": [
    "Importance changed."
   ]
  },
  {
   "cell_type": "code",
   "execution_count": 2,
   "metadata": {},
   "outputs": [
    {
     "name": "stdout",
     "output_type": "stream",
     "text": [
      "['CRIM' 'ZN' 'INDUS' 'CHAS' 'NOX' 'RM' 'AGE' 'DIS' 'RAD' 'TAX' 'PTRATIO'\n",
      " 'B' 'LSTAT']\n",
      "Feature COEF: [-1.18901558e-01  5.05689401e-02 -1.07427433e-02  3.66184857e+00\n",
      " -1.52957329e+01  3.39316181e+00 -5.91222130e-03 -1.49234402e+00\n",
      "  3.33696220e-01 -1.50593743e-02 -8.69475207e-01  8.80571095e-03\n",
      " -4.92763225e-01]\n",
      "Feature importance: [0.12487462 0.02116647 0.05058137 0.00865177 0.07058029 0.13398061\n",
      " 0.11262262 0.1047084  0.03206734 0.05510395 0.04814086 0.09485777\n",
      " 0.14266392]\n"
     ]
    }
   ],
   "source": [
    "boston = datasets.load_boston()\n",
    "x_train, x_test, y_train, y_test = train_test_split(boston.data, boston.target, test_size=0.25, random_state=4)\n",
    "regr = linear_model.LinearRegression()\n",
    "clf = RandomForestClassifier(n_estimators=100, n_jobs=-1)\n",
    "regr.fit(x_train, y_train)\n",
    "clf.fit(x_train, y_train.astype('int'))\n",
    "y_pred_r = regr.predict(x_test)\n",
    "y_pred_f = clf.predict(x_test)\n",
    "print(boston.feature_names)\n",
    "print(\"Feature COEF:\", regr.coef_)\n",
    "print(\"Feature importance:\", clf.feature_importances_)"
   ]
  },
  {
   "cell_type": "code",
   "execution_count": 3,
   "metadata": {},
   "outputs": [
    {
     "name": "stdout",
     "output_type": "stream",
     "text": [
      "['alcohol', 'malic_acid', 'ash', 'alcalinity_of_ash', 'magnesium', 'total_phenols', 'flavanoids', 'nonflavanoid_phenols', 'proanthocyanins', 'color_intensity', 'hue', 'od280/od315_of_diluted_wines', 'proline']\n",
      "Feature COEF: [-0.10139884  0.00890643 -0.22037614  0.04530773  0.00047883  0.13482576\n",
      " -0.325913   -0.15138182  0.03346     0.07702213 -0.15930159 -0.28874278\n",
      " -0.00079019]\n",
      "Feature importance: [0.15199876 0.02585828 0.01238188 0.03337125 0.02341136 0.06396863\n",
      " 0.12495561 0.00786108 0.01820064 0.18633831 0.06663937 0.12516616\n",
      " 0.15984866]\n"
     ]
    }
   ],
   "source": [
    "wine = datasets.load_wine()\n",
    "x_train, x_test, y_train, y_test = train_test_split(wine.data, wine.target, test_size=0.25, random_state=4)\n",
    "regr = linear_model.LinearRegression()\n",
    "clf = RandomForestClassifier(n_estimators=100, n_jobs=-1)\n",
    "regr.fit(x_train, y_train)\n",
    "clf.fit(x_train, y_train.astype('int'))\n",
    "y_pred_r = regr.predict(x_test)\n",
    "y_pred_f = clf.predict(x_test)\n",
    "print(wine.feature_names)\n",
    "print(\"Feature COEF:\", regr.coef_)\n",
    "print(\"Feature importance:\", clf.feature_importances_)"
   ]
  }
 ],
 "metadata": {
  "kernelspec": {
   "display_name": "Python 3",
   "language": "python",
   "name": "python3"
  },
  "language_info": {
   "codemirror_mode": {
    "name": "ipython",
    "version": 3
   },
   "file_extension": ".py",
   "mimetype": "text/x-python",
   "name": "python",
   "nbconvert_exporter": "python",
   "pygments_lexer": "ipython3",
   "version": "3.7.4"
  }
 },
 "nbformat": 4,
 "nbformat_minor": 2
}
