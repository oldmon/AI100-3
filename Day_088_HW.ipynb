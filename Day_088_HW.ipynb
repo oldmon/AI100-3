{
 "cells": [
  {
   "cell_type": "markdown",
   "metadata": {},
   "source": [
    "## Work\n",
    "1. 請嘗試寫一個 callback 用來記錄各類別在訓練過程中，對驗證集的 True Positive 與 True Negative"
   ]
  },
  {
   "cell_type": "code",
   "execution_count": 1,
   "metadata": {},
   "outputs": [
    {
     "name": "stderr",
     "output_type": "stream",
     "text": [
      "Using TensorFlow backend.\n"
     ]
    }
   ],
   "source": [
    "import os\n",
    "import keras\n",
    "from keras.layers import BatchNormalization\n",
    "import matplotlib.pyplot as plt\n",
    "from keras.callbacks import Callback\n",
    "# Disable GPU\n",
    "os.environ[\"CUDA_VISIBLE_DEVICES\"] = \"\""
   ]
  },
  {
   "cell_type": "code",
   "execution_count": 2,
   "metadata": {},
   "outputs": [],
   "source": [
    "train, test = keras.datasets.cifar10.load_data()"
   ]
  },
  {
   "cell_type": "code",
   "execution_count": 3,
   "metadata": {},
   "outputs": [],
   "source": [
    "## 資料前處理\n",
    "def preproc_x(x, flatten=True):\n",
    "    x = x / 255.\n",
    "    if flatten:\n",
    "        x = x.reshape((len(x), -1))\n",
    "    return x\n",
    "\n",
    "def preproc_y(y, num_classes=10):\n",
    "    if y.shape[-1] == 1:\n",
    "        y = keras.utils.to_categorical(y, num_classes)\n",
    "    return y    "
   ]
  },
  {
   "cell_type": "code",
   "execution_count": 4,
   "metadata": {},
   "outputs": [],
   "source": [
    "x_train, y_train = train\n",
    "x_test, y_test = test\n",
    "\n",
    "# Preproc the inputs\n",
    "x_train = preproc_x(x_train)\n",
    "x_test = preproc_x(x_test)\n",
    "\n",
    "# Preprc the outputs\n",
    "y_train = preproc_y(y_train)\n",
    "y_test = preproc_y(y_test)"
   ]
  },
  {
   "cell_type": "code",
   "execution_count": 5,
   "metadata": {},
   "outputs": [],
   "source": [
    "def build_mlp(input_shape, output_units=10, num_neurons=[256, 256, 256]):\n",
    "    input_layer = keras.layers.Input(input_shape)\n",
    "    for i, n_units in enumerate(num_neurons):\n",
    "        if i == 0:\n",
    "            x = keras.layers.Dense(units=n_units, activation=\"relu\", name=\"hidden_layer\"+str(i+1))(input_layer)\n",
    "            x = BatchNormalization()(x)\n",
    "        else:\n",
    "            x = keras.layers.Dense(units=n_units, activation=\"relu\", name=\"hidden_layer\"+str(i+1))(x)\n",
    "            x = BatchNormalization()(x)\n",
    "    out = keras.layers.Dense(units=output_units, activation=\"softmax\", name=\"output\")(x)\n",
    "    model = keras.models.Model(inputs=[input_layer], outputs=[out])\n",
    "    return model"
   ]
  },
  {
   "cell_type": "code",
   "execution_count": 6,
   "metadata": {},
   "outputs": [],
   "source": [
    "## 超參數設定\n",
    "LEARNING_RATE = 1e-3\n",
    "EPOCHS = 25\n",
    "BATCH_SIZE = 1024\n",
    "MOMENTUM = 0.95"
   ]
  },
  {
   "cell_type": "code",
   "execution_count": 7,
   "metadata": {},
   "outputs": [],
   "source": [
    "# Record_fp_tp\n",
    "class Record_tp_tn(Callback):\n",
    "    def on_train_begin(self, epoch, logs = {}):\n",
    "        logs = logs or {}\n",
    "        record_items = [\"val_tp\", \"val_tn\"]\n",
    "        for i in record_items:\n",
    "            if i not in self.params['metrics']:\n",
    "                self.params['metrics'].append(i)\n",
    "\n",
    "    def on_epoch_end(self, epoch, logs = {}, thres=0.5):\n",
    "        logs = logs or {}\n",
    "        y_true = self.validation_data[1].argmax(axis = 1)\n",
    "        y_pred = self.model.predict(self.validation_data[0])\n",
    "        y_pred = (y_pred[:, 1] >= thres) * 1\n",
    "\n",
    "        logs[\"val_tp\"] = sum((y_true==1) & (y_pred==1))\n",
    "        logs[\"val_tn\"] = sum((y_true==0) & (y_pred==0))\n",
    "\n",
    "rec_tptn = Record_tp_tn()"
   ]
  },
  {
   "cell_type": "code",
   "execution_count": 8,
   "metadata": {
    "scrolled": true
   },
   "outputs": [
    {
     "name": "stdout",
     "output_type": "stream",
     "text": [
      "WARNING:tensorflow:From C:\\Users\\oldmon\\.conda\\envs\\ai100-3\\lib\\site-packages\\keras\\backend\\tensorflow_backend.py:74: The name tf.get_default_graph is deprecated. Please use tf.compat.v1.get_default_graph instead.\n",
      "\n",
      "WARNING:tensorflow:From C:\\Users\\oldmon\\.conda\\envs\\ai100-3\\lib\\site-packages\\keras\\backend\\tensorflow_backend.py:517: The name tf.placeholder is deprecated. Please use tf.compat.v1.placeholder instead.\n",
      "\n",
      "WARNING:tensorflow:From C:\\Users\\oldmon\\.conda\\envs\\ai100-3\\lib\\site-packages\\keras\\backend\\tensorflow_backend.py:4138: The name tf.random_uniform is deprecated. Please use tf.random.uniform instead.\n",
      "\n",
      "WARNING:tensorflow:From C:\\Users\\oldmon\\.conda\\envs\\ai100-3\\lib\\site-packages\\keras\\backend\\tensorflow_backend.py:133: The name tf.placeholder_with_default is deprecated. Please use tf.compat.v1.placeholder_with_default instead.\n",
      "\n",
      "_________________________________________________________________\n",
      "Layer (type)                 Output Shape              Param #   \n",
      "=================================================================\n",
      "input_1 (InputLayer)         (None, 3072)              0         \n",
      "_________________________________________________________________\n",
      "hidden_layer1 (Dense)        (None, 256)               786688    \n",
      "_________________________________________________________________\n",
      "batch_normalization_1 (Batch (None, 256)               1024      \n",
      "_________________________________________________________________\n",
      "hidden_layer2 (Dense)        (None, 256)               65792     \n",
      "_________________________________________________________________\n",
      "batch_normalization_2 (Batch (None, 256)               1024      \n",
      "_________________________________________________________________\n",
      "hidden_layer3 (Dense)        (None, 256)               65792     \n",
      "_________________________________________________________________\n",
      "batch_normalization_3 (Batch (None, 256)               1024      \n",
      "_________________________________________________________________\n",
      "output (Dense)               (None, 10)                2570      \n",
      "=================================================================\n",
      "Total params: 923,914\n",
      "Trainable params: 922,378\n",
      "Non-trainable params: 1,536\n",
      "_________________________________________________________________\n",
      "WARNING:tensorflow:From C:\\Users\\oldmon\\.conda\\envs\\ai100-3\\lib\\site-packages\\keras\\optimizers.py:790: The name tf.train.Optimizer is deprecated. Please use tf.compat.v1.train.Optimizer instead.\n",
      "\n",
      "WARNING:tensorflow:From C:\\Users\\oldmon\\.conda\\envs\\ai100-3\\lib\\site-packages\\keras\\backend\\tensorflow_backend.py:3295: The name tf.log is deprecated. Please use tf.math.log instead.\n",
      "\n",
      "WARNING:tensorflow:From C:\\Users\\oldmon\\.conda\\envs\\ai100-3\\lib\\site-packages\\tensorflow_core\\python\\ops\\math_grad.py:1424: where (from tensorflow.python.ops.array_ops) is deprecated and will be removed in a future version.\n",
      "Instructions for updating:\n",
      "Use tf.where in 2.0, which has the same broadcast rule as np.where\n",
      "WARNING:tensorflow:From C:\\Users\\oldmon\\.conda\\envs\\ai100-3\\lib\\site-packages\\keras\\backend\\tensorflow_backend.py:986: The name tf.assign_add is deprecated. Please use tf.compat.v1.assign_add instead.\n",
      "\n",
      "WARNING:tensorflow:From C:\\Users\\oldmon\\.conda\\envs\\ai100-3\\lib\\site-packages\\keras\\backend\\tensorflow_backend.py:973: The name tf.assign is deprecated. Please use tf.compat.v1.assign instead.\n",
      "\n",
      "WARNING:tensorflow:From C:\\Users\\oldmon\\.conda\\envs\\ai100-3\\lib\\site-packages\\keras\\backend\\tensorflow_backend.py:2741: The name tf.Session is deprecated. Please use tf.compat.v1.Session instead.\n",
      "\n",
      "Train on 50000 samples, validate on 10000 samples\n",
      "Epoch 1/25\n",
      "WARNING:tensorflow:From C:\\Users\\oldmon\\.conda\\envs\\ai100-3\\lib\\site-packages\\keras\\backend\\tensorflow_backend.py:174: The name tf.get_default_session is deprecated. Please use tf.compat.v1.get_default_session instead.\n",
      "\n",
      "WARNING:tensorflow:From C:\\Users\\oldmon\\.conda\\envs\\ai100-3\\lib\\site-packages\\keras\\backend\\tensorflow_backend.py:181: The name tf.ConfigProto is deprecated. Please use tf.compat.v1.ConfigProto instead.\n",
      "\n",
      "WARNING:tensorflow:From C:\\Users\\oldmon\\.conda\\envs\\ai100-3\\lib\\site-packages\\keras\\backend\\tensorflow_backend.py:190: The name tf.global_variables is deprecated. Please use tf.compat.v1.global_variables instead.\n",
      "\n",
      "WARNING:tensorflow:From C:\\Users\\oldmon\\.conda\\envs\\ai100-3\\lib\\site-packages\\keras\\backend\\tensorflow_backend.py:199: The name tf.is_variable_initialized is deprecated. Please use tf.compat.v1.is_variable_initialized instead.\n",
      "\n",
      "WARNING:tensorflow:From C:\\Users\\oldmon\\.conda\\envs\\ai100-3\\lib\\site-packages\\keras\\backend\\tensorflow_backend.py:206: The name tf.variables_initializer is deprecated. Please use tf.compat.v1.variables_initializer instead.\n",
      "\n",
      "50000/50000 [==============================] - 7s 133us/step - loss: 2.2262 - acc: 0.2721 - val_loss: 2.2013 - val_acc: 0.3066124 - ETA: 2s - loss: \n",
      "Epoch 2/25\n",
      "50000/50000 [==============================] - 5s 94us/step - loss: 1.7650 - acc: 0.3858 - val_loss: 1.8475 - val_acc: 0.3708\n",
      "Epoch 3/25\n",
      "50000/50000 [==============================] - 5s 108us/step - loss: 1.6291 - acc: 0.4303 - val_loss: 1.6965 - val_acc: 0.4054\n",
      "Epoch 4/25\n",
      "50000/50000 [==============================] - 5s 104us/step - loss: 1.5555 - acc: 0.4558 - val_loss: 1.6246 - val_acc: 0.4310\n",
      "Epoch 5/25\n",
      "50000/50000 [==============================] - 4s 85us/step - loss: 1.5011 - acc: 0.4745 - val_loss: 1.5858 - val_acc: 0.4422\n",
      "Epoch 6/25\n",
      "50000/50000 [==============================] - 6s 119us/step - loss: 1.4580 - acc: 0.4915 - val_loss: 1.5684 - val_acc: 0.4460\n",
      "Epoch 7/25\n",
      "50000/50000 [==============================] - 5s 103us/step - loss: 1.4208 - acc: 0.5037 - val_loss: 1.5568 - val_acc: 0.4499\n",
      "Epoch 8/25\n",
      "50000/50000 [==============================] - 5s 99us/step - loss: 1.3882 - acc: 0.5149 - val_loss: 1.5270 - val_acc: 0.4577\n",
      "Epoch 9/25\n",
      "50000/50000 [==============================] - 6s 128us/step - loss: 1.3576 - acc: 0.5259 - val_loss: 1.5167 - val_acc: 0.4642\n",
      "Epoch 10/25\n",
      "50000/50000 [==============================] - 11s 221us/step - loss: 1.3311 - acc: 0.5342 - val_loss: 1.5159 - val_acc: 0.4618\n",
      "Epoch 11/25\n",
      "50000/50000 [==============================] - 10s 206us/step - loss: 1.3066 - acc: 0.5454 - val_loss: 1.4970 - val_acc: 0.4653\n",
      "Epoch 12/25\n",
      "50000/50000 [==============================] - 10s 209us/step - loss: 1.2833 - acc: 0.5515 - val_loss: 1.4876 - val_acc: 0.4706\n",
      "Epoch 13/25\n",
      "50000/50000 [==============================] - 11s 219us/step - loss: 1.2601 - acc: 0.5619 - val_loss: 1.4851 - val_acc: 0.4760\n",
      "Epoch 14/25\n",
      "50000/50000 [==============================] - 10s 190us/step - loss: 1.2386 - acc: 0.5686 - val_loss: 1.4675 - val_acc: 0.4805\n",
      "Epoch 15/25\n",
      "50000/50000 [==============================] - 10s 192us/step - loss: 1.2184 - acc: 0.5761 - val_loss: 1.4772 - val_acc: 0.4816\n",
      "Epoch 16/25\n",
      "50000/50000 [==============================] - 11s 211us/step - loss: 1.1985 - acc: 0.5844 - val_loss: 1.4631 - val_acc: 0.4822\n",
      "Epoch 17/25\n",
      "50000/50000 [==============================] - 9s 188us/step - loss: 1.1800 - acc: 0.5909 - val_loss: 1.4663 - val_acc: 0.4869\n",
      "Epoch 18/25\n",
      "50000/50000 [==============================] - 9s 189us/step - loss: 1.1611 - acc: 0.5991 - val_loss: 1.4571 - val_acc: 0.4846\n",
      "Epoch 19/25\n",
      "50000/50000 [==============================] - 9s 190us/step - loss: 1.1415 - acc: 0.6051 - val_loss: 1.4486 - val_acc: 0.4845\n",
      "Epoch 20/25\n",
      "50000/50000 [==============================] - 11s 210us/step - loss: 1.1240 - acc: 0.6111 - val_loss: 1.4629 - val_acc: 0.4868\n",
      "Epoch 21/25\n",
      "50000/50000 [==============================] - 9s 182us/step - loss: 1.1061 - acc: 0.6192 - val_loss: 1.4634 - val_acc: 0.4830\n",
      "Epoch 22/25\n",
      "50000/50000 [==============================] - 9s 182us/step - loss: 1.0887 - acc: 0.6260 - val_loss: 1.4634 - val_acc: 0.4836\n",
      "Epoch 23/25\n",
      "50000/50000 [==============================] - 9s 180us/step - loss: 1.0714 - acc: 0.6322 - val_loss: 1.4587 - val_acc: 0.4876\n",
      "Epoch 24/25\n",
      "50000/50000 [==============================] - 9s 183us/step - loss: 1.0549 - acc: 0.6379 - val_loss: 1.4612 - val_acc: 0.4861\n",
      "Epoch 25/25\n",
      "50000/50000 [==============================] - 9s 180us/step - loss: 1.0363 - acc: 0.6451 - val_loss: 1.4590 - val_acc: 0.4903\n"
     ]
    }
   ],
   "source": [
    "model = build_mlp(input_shape=x_train.shape[1:])\n",
    "model.summary()\n",
    "optimizer = keras.optimizers.SGD(lr=LEARNING_RATE, nesterov=True, momentum=MOMENTUM)\n",
    "model.compile(loss=\"categorical_crossentropy\", metrics=[\"accuracy\"], optimizer=optimizer)\n",
    "\n",
    "model.fit(x_train, y_train, epochs=EPOCHS, batch_size=BATCH_SIZE, validation_data=(x_test, y_test), shuffle=True, callbacks=[rec_tptn])\n",
    "\n",
    "# Collect results\n",
    "train_loss = model.history.history[\"loss\"]\n",
    "valid_loss = model.history.history[\"val_loss\"]\n",
    "train_acc = model.history.history[\"acc\"]\n",
    "valid_acc = model.history.history[\"val_acc\"]\n",
    "\n",
    "\"\"\"Code Here\n",
    "將 tp/tn 從訓練完的模型中取出\n",
    "\"\"\"\n",
    "valid_tp = model.history.history[\"val_tp\"]\n",
    "valid_tn = model.history.history[\"val_tn\"]"
   ]
  },
  {
   "cell_type": "code",
   "execution_count": 9,
   "metadata": {},
   "outputs": [
    {
     "data": {
      "image/png": "[encoded data removed]",
      "text/plain": [
       "<Figure size 432x288 with 1 Axes>"
      ]
     },
     "metadata": {
      "needs_background": "light"
     },
     "output_type": "display_data"
    },
    {
     "data": {
      "image/png": "[encoded data removed]",
      "text/plain": [
       "<Figure size 432x288 with 1 Axes>"
      ]
     },
     "metadata": {
      "needs_background": "light"
     },
     "output_type": "display_data"
    },
    {
     "data": {
      "image/png": "[encoded data removed]",
      "text/plain": [
       "<Figure size 432x288 with 1 Axes>"
      ]
     },
     "metadata": {
      "needs_background": "light"
     },
     "output_type": "display_data"
    }
   ],
   "source": [
    "%matplotlib inline\n",
    "\n",
    "plt.plot(range(len(train_loss)), train_loss, label=\"train loss\")\n",
    "plt.plot(range(len(valid_loss)), valid_loss, label=\"valid loss\")\n",
    "plt.legend()\n",
    "plt.title(\"Loss\")\n",
    "plt.show()\n",
    "\n",
    "plt.plot(range(len(train_acc)), train_acc, label=\"train accuracy\")\n",
    "plt.plot(range(len(valid_acc)), valid_acc, label=\"valid accuracy\")\n",
    "plt.legend()\n",
    "plt.title(\"Accuracy\")\n",
    "plt.show()\n",
    "\n",
    "plt.plot(range(len(valid_tp)), valid_tp, label=\"valid tp\", color=\"navy\")\n",
    "plt.plot(range(len(valid_tn)), valid_tn, label=\"valid tn\", color=\"red\")\n",
    "plt.legend()\n",
    "plt.title(\"True positives and True Negatives\")\n",
    "plt.show()"
   ]
  }
 ],
 "metadata": {
  "kernelspec": {
   "display_name": "Python 3",
   "language": "python",
   "name": "python3"
  },
  "language_info": {
   "codemirror_mode": {
    "name": "ipython",
    "version": 3
   },
   "file_extension": ".py",
   "mimetype": "text/x-python",
   "name": "python",
   "nbconvert_exporter": "python",
   "pygments_lexer": "ipython3",
   "version": "3.7.5"
  }
 },
 "nbformat": 4,
 "nbformat_minor": 2
}
